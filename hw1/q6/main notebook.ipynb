{
 "cells": [
  {
   "cell_type": "code",
   "execution_count": 2,
   "metadata": {},
   "outputs": [],
   "source": [
    "import pandas as pd\n",
    "import sqlite3\n",
    "import datetime as dt\n"
   ]
  },
  {
   "cell_type": "code",
   "execution_count": 3,
   "metadata": {},
   "outputs": [],
   "source": [
    "# Use the same dataset as segment 5 for this question. Connect to your sqlite3 database with\n",
    "data = sqlite3.connect('db.sqlite3')\n",
    "# Python and export your data into a pandas DataFrame.\n",
    "df = pd.read_sql_query(\"SELECT * FROM sales\", data)\n",
    "\n",
    "df.sale_date = pd.to_datetime(df.sale_date)\n",
    "df.store_name = df.store_name.astype(str)"
   ]
  },
  {
   "cell_type": "code",
   "execution_count": 4,
   "metadata": {},
   "outputs": [
    {
     "name": "stdout",
     "output_type": "stream",
     "text": [
      "<class 'pandas.core.frame.DataFrame'>\n",
      "RangeIndex: 10950 entries, 0 to 10949\n",
      "Data columns (total 3 columns):\n",
      "store_name    10950 non-null object\n",
      "sale_date     10950 non-null datetime64[ns]\n",
      "num_sold      10858 non-null float64\n",
      "dtypes: datetime64[ns](1), float64(1), object(1)\n",
      "memory usage: 213.9+ KB\n"
     ]
    },
    {
     "data": {
      "text/html": [
       "<div>\n",
       "<style scoped>\n",
       "    .dataframe tbody tr th:only-of-type {\n",
       "        vertical-align: middle;\n",
       "    }\n",
       "\n",
       "    .dataframe tbody tr th {\n",
       "        vertical-align: top;\n",
       "    }\n",
       "\n",
       "    .dataframe thead th {\n",
       "        text-align: right;\n",
       "    }\n",
       "</style>\n",
       "<table border=\"1\" class=\"dataframe\">\n",
       "  <thead>\n",
       "    <tr style=\"text-align: right;\">\n",
       "      <th></th>\n",
       "      <th>store_name</th>\n",
       "      <th>sale_date</th>\n",
       "      <th>num_sold</th>\n",
       "    </tr>\n",
       "  </thead>\n",
       "  <tbody>\n",
       "    <tr>\n",
       "      <th>0</th>\n",
       "      <td>S1</td>\n",
       "      <td>2017-01-01</td>\n",
       "      <td>76.0</td>\n",
       "    </tr>\n",
       "    <tr>\n",
       "      <th>1</th>\n",
       "      <td>S1</td>\n",
       "      <td>2017-01-02</td>\n",
       "      <td>64.0</td>\n",
       "    </tr>\n",
       "    <tr>\n",
       "      <th>2</th>\n",
       "      <td>S1</td>\n",
       "      <td>2017-01-03</td>\n",
       "      <td>53.0</td>\n",
       "    </tr>\n",
       "    <tr>\n",
       "      <th>3</th>\n",
       "      <td>S1</td>\n",
       "      <td>2017-01-04</td>\n",
       "      <td>65.0</td>\n",
       "    </tr>\n",
       "    <tr>\n",
       "      <th>4</th>\n",
       "      <td>S1</td>\n",
       "      <td>2017-01-05</td>\n",
       "      <td>58.0</td>\n",
       "    </tr>\n",
       "  </tbody>\n",
       "</table>\n",
       "</div>"
      ],
      "text/plain": [
       "  store_name  sale_date  num_sold\n",
       "0         S1 2017-01-01      76.0\n",
       "1         S1 2017-01-02      64.0\n",
       "2         S1 2017-01-03      53.0\n",
       "3         S1 2017-01-04      65.0\n",
       "4         S1 2017-01-05      58.0"
      ]
     },
     "execution_count": 4,
     "metadata": {},
     "output_type": "execute_result"
    }
   ],
   "source": [
    "df.info()\n",
    "df.head()"
   ]
  },
  {
   "cell_type": "code",
   "execution_count": 78,
   "metadata": {},
   "outputs": [
    {
     "data": {
      "text/html": [
       "<div>\n",
       "<style scoped>\n",
       "    .dataframe tbody tr th:only-of-type {\n",
       "        vertical-align: middle;\n",
       "    }\n",
       "\n",
       "    .dataframe tbody tr th {\n",
       "        vertical-align: top;\n",
       "    }\n",
       "\n",
       "    .dataframe thead th {\n",
       "        text-align: right;\n",
       "    }\n",
       "</style>\n",
       "<table border=\"1\" class=\"dataframe\">\n",
       "  <thead>\n",
       "    <tr style=\"text-align: right;\">\n",
       "      <th></th>\n",
       "      <th>num_sold</th>\n",
       "    </tr>\n",
       "    <tr>\n",
       "      <th>store_name</th>\n",
       "      <th></th>\n",
       "    </tr>\n",
       "  </thead>\n",
       "  <tbody>\n",
       "    <tr>\n",
       "      <th>S2</th>\n",
       "      <td>75.561983</td>\n",
       "    </tr>\n",
       "    <tr>\n",
       "      <th>S6</th>\n",
       "      <td>67.268493</td>\n",
       "    </tr>\n",
       "    <tr>\n",
       "      <th>S1</th>\n",
       "      <td>62.138504</td>\n",
       "    </tr>\n",
       "    <tr>\n",
       "      <th>S7</th>\n",
       "      <td>57.154930</td>\n",
       "    </tr>\n",
       "    <tr>\n",
       "      <th>S3</th>\n",
       "      <td>52.367403</td>\n",
       "    </tr>\n",
       "    <tr>\n",
       "      <th>S4</th>\n",
       "      <td>52.367403</td>\n",
       "    </tr>\n",
       "    <tr>\n",
       "      <th>S10</th>\n",
       "      <td>50.190083</td>\n",
       "    </tr>\n",
       "    <tr>\n",
       "      <th>S5</th>\n",
       "      <td>49.219178</td>\n",
       "    </tr>\n",
       "    <tr>\n",
       "      <th>S9</th>\n",
       "      <td>47.810056</td>\n",
       "    </tr>\n",
       "    <tr>\n",
       "      <th>S8</th>\n",
       "      <td>32.567867</td>\n",
       "    </tr>\n",
       "  </tbody>\n",
       "</table>\n",
       "</div>"
      ],
      "text/plain": [
       "             num_sold\n",
       "store_name           \n",
       "S2          75.561983\n",
       "S6          67.268493\n",
       "S1          62.138504\n",
       "S7          57.154930\n",
       "S3          52.367403\n",
       "S4          52.367403\n",
       "S10         50.190083\n",
       "S5          49.219178\n",
       "S9          47.810056\n",
       "S8          32.567867"
      ]
     },
     "execution_count": 78,
     "metadata": {},
     "output_type": "execute_result"
    }
   ],
   "source": [
    "# Write a pandas program ( hw1/q6/main.py ) that outputs the answers to the following queries,\n",
    "# one per line:\n",
    "# 6.1 Which store had the highest mean sale in 2017?\n",
    "## take the average of all sales per day for each store\n",
    "\n",
    "##df.groupby(df.store_name).mean().sort_values(by='num_sold', ascending=False)\n",
    "##pd.strftime(\"%Y\", df.sale_date)\n",
    "##df.sale_date.dt.strftime(\"%Y\")\n",
    "df_17 = df[(df.sale_date>='2017') & (df.sale_date<'2018')]\n",
    "df_17.groupby(df_17.store_name).mean().sort_values(by='num_sold', ascending=False)\n",
    "\n"
   ]
  },
  {
   "cell_type": "code",
   "execution_count": 41,
   "metadata": {},
   "outputs": [
    {
     "data": {
      "text/plain": [
       "(Timestamp('2017-03-16 00:00:00', freq='D'), 487.9555555555556)"
      ]
     },
     "execution_count": 41,
     "metadata": {},
     "output_type": "execute_result"
    }
   ],
   "source": [
    "# 6.2 Which day showed the highest variance in sales across different stores?\n",
    "##calculate variance in S1 thru S10 for a single day\n",
    "df[df.sale_date == '2017-01-01'].var()\n",
    "\n",
    "start_date = df.sale_date.sort_values()[0].date()\n",
    "end_date = df.sale_date.sort_values().iloc[-1].date()\n",
    "daterange = pd.date_range(start_date, end_date)\n",
    "df_new = pd.DataFrame(columns=[])\n",
    "variances = list()\n",
    "\n",
    "for single_date in daterange:\n",
    "    ##df_new.append(pd.Series(df[df.sale_date == single_date].num_sold.var()),ignore_index=True)\n",
    "    ##print(df[df.sale_date == single_date].num_sold.var())\n",
    "    #variances.append( df[df.sale_date == single_date].num_sold.var() )\n",
    "    ##you'll have to make a df with the sale date AND the variance for that sale date\n",
    "    variances.append( ( single_date, df[df.sale_date == single_date].num_sold.var()) )\n",
    "    ##df_new.append(pd.Series(df[df.sale_date == single_date].num_sold.var()),ignore_index=True)\n",
    "#max(variances)\n",
    "max(variances, key=lambda item:item[1])\n",
    "\n",
    "## 2017-03-16 had the highest variance in sales across all stores\n"
   ]
  },
  {
   "cell_type": "code",
   "execution_count": 39,
   "metadata": {},
   "outputs": [
    {
     "name": "stdout",
     "output_type": "stream",
     "text": [
      "   year  num_sold\n",
      "2  2019      47.0\n"
     ]
    }
   ],
   "source": [
    "# 6.3 Which year showed the highest median sale for the store S5?\n",
    "# df[df.store_name == 'S5']\n",
    "# start_year = dt.datetime(2017,1,1)\n",
    "# end_year = dt.datetime(2020,1,1)\n",
    "\n",
    "# yearrange = pd.date_range(start_year,end_year, freq = 'Y')\n",
    "# #yearrange\n",
    "# for single_year in yearrange:\n",
    "#     print(df.sale_date[df.sale_date.year == single_year].median())\n",
    "\n",
    "#make a new column from just the years, add it to DF\n",
    "df.loc[:,'year'] = df.loc[:,'sale_date'].dt.year\n",
    "\n",
    "print(df.loc[df.store_name =='S5',:].groupby('year')['num_sold']\n",
    "                            .median()\n",
    "                            .reset_index()\n",
    "                            .sort_values('num_sold',ascending=False)\n",
    "                            .head(1))\n",
    "\n",
    "\n",
    "\n"
   ]
  },
  {
   "cell_type": "code",
   "execution_count": 105,
   "metadata": {},
   "outputs": [
    {
     "data": {
      "text/plain": [
       "S2    607\n",
       "Name: store_name, dtype: int64"
      ]
     },
     "execution_count": 105,
     "metadata": {},
     "output_type": "execute_result"
    }
   ],
   "source": [
    "# 6.4 Which store recorded the highest number of sales for the largest number of days?\n",
    "\n",
    "##select which store \"won\" on a single day\n",
    "df.loc[df.sale_date == pd.Timestamp(start_date),:].sort_values('num_sold', ascending=False).head(1)\n",
    "                                                \n",
    "##iterate over all thedays\n",
    "start_date = df.sale_date.sort_values()[0].date()\n",
    "end_date = df.sale_date.sort_values().iloc[-1].date()\n",
    "daterange = pd.date_range(start_date, end_date)\n",
    "day_winner = pd.DataFrame()\n",
    "\n",
    "for single_date in daterange:\n",
    "    day_winner = day_winner.append( df.loc[df.sale_date == pd.Timestamp(single_date),:].sort_values('num_sold', ascending=False).head(1) )\n",
    "#.reset_index()\n",
    "#.sort_values('num_sold', ascending=False)\n",
    "day_winner.store_name.value_counts().head(1)\n",
    "\n"
   ]
  },
  {
   "cell_type": "code",
   "execution_count": 133,
   "metadata": {},
   "outputs": [
    {
     "name": "stdout",
     "output_type": "stream",
     "text": [
      "store_name\n",
      "S4    57086.0\n",
      "Name: num_sold, dtype: float64\n"
     ]
    }
   ],
   "source": [
    "# 6.5 Which store ranks 5th in the cumulative number of units sold over the 3-year interval?\n",
    "print(df.groupby('store_name')['num_sold'].sum().sort_values(ascending=False)[[4]])\n",
    "\n"
   ]
  },
  {
   "cell_type": "code",
   "execution_count": 135,
   "metadata": {},
   "outputs": [],
   "source": [
    "# 6.6 Your program should create a file named repaired.csv in the directory hw1/q4 which\n",
    "# contains the same data as data.csv , but with “N/A” values replaced with the median\n",
    "# sale of that store, over the entire 3-year interval. Retain the header row found in\n",
    "# data.csv.\n",
    "rep = df.copy()\n",
    "rep.loc[:,'median_sales'] = rep.groupby('store_name')['num_sold'].transform(lambda x: x.median())\n",
    "rep[['store_name','median_sales']].drop_duplicates()\n",
    "rep.loc[:,'num_sold'] = rep['num_sold'].combine_first(rep['median_sales'])\n",
    "rep = rep.pivot(index='sale_date',columns='store_name',values='num_sold').reset_index()\n",
    " \n",
    "# re-create the data.csv header columns for each store: s1-s10\n",
    "cols = ['sale_date']\n",
    "cols.extend(['S'+str(r+1) for r in range(10)])\n",
    "rep = rep.loc[:, cols]\n",
    "rep.to_csv('../q6/repaired.csv', index=False)"
   ]
  }
 ],
 "metadata": {
  "kernelspec": {
   "display_name": "env-stats404-class0",
   "language": "python",
   "name": "env-stats404-class0"
  },
  "language_info": {
   "codemirror_mode": {
    "name": "ipython",
    "version": 3
   },
   "file_extension": ".py",
   "mimetype": "text/x-python",
   "name": "python",
   "nbconvert_exporter": "python",
   "pygments_lexer": "ipython3",
   "version": "3.7.2"
  }
 },
 "nbformat": 4,
 "nbformat_minor": 2
}
