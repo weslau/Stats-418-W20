{
 "cells": [
  {
   "cell_type": "code",
   "execution_count": 1,
   "metadata": {},
   "outputs": [],
   "source": [
    "import numpy as np\n",
    "import pandas as pd"
   ]
  },
  {
   "cell_type": "code",
   "execution_count": 10,
   "metadata": {},
   "outputs": [
    {
     "data": {
      "text/plain": [
       "array([[ 1.255, -1.55 , -1.888],\n",
       "       [ 4.   ,  5.   ,  6.   ]])"
      ]
     },
     "execution_count": 10,
     "metadata": {},
     "output_type": "execute_result"
    }
   ],
   "source": [
    "# Write a function that, given a 2d numpy array, returns (write all functions to hw1/q7/main.py )\n",
    "##write your example/test case 2D array\n",
    "x = np.array([(1.255,-1.55,-1.888), (4,5,6)], dtype = float)\n",
    "x\n"
   ]
  },
  {
   "cell_type": "code",
   "execution_count": 6,
   "metadata": {},
   "outputs": [
    {
     "data": {
      "text/plain": [
       "array([[4., 5., 6.]])"
      ]
     },
     "execution_count": 6,
     "metadata": {},
     "output_type": "execute_result"
    }
   ],
   "source": [
    "# 7.1 A 2d array with rows of magnitude>1\n",
    "##square each element and then add them and sqrt\n",
    "def Q7_1(X):\n",
    "    return X[np.linalg.norm(X, axis=1)>1]\n",
    "print(Q7_1(x))\n"
   ]
  },
  {
   "cell_type": "code",
   "execution_count": 10,
   "metadata": {},
   "outputs": [
    {
     "name": "stdout",
     "output_type": "stream",
     "text": [
      "[1. 4. 0. 5. 0. 6.]\n"
     ]
    }
   ],
   "source": [
    "# 7.2 A 1d array with all elements of the matrix in a column-major way\n",
    "def Q7_2 (X):\n",
    "    return X.flatten(order='F')\n",
    "print(Q7_2(x))\n"
   ]
  },
  {
   "cell_type": "code",
   "execution_count": 18,
   "metadata": {},
   "outputs": [
    {
     "name": "stdout",
     "output_type": "stream",
     "text": [
      "[[1. 0. 0.]\n",
      " [4. 5. 6.]]\n"
     ]
    }
   ],
   "source": [
    "# 7.3 A 2d array with all the negative values replaced by zero\n",
    "def Q7_3 (X):\n",
    "    #this works b/c python is passing by reference, changing/assigning at this point will change original data (not a copy)\n",
    "    X[X<0]= 0 \n",
    "    return X\n",
    "print(Q7_3(x))"
   ]
  },
  {
   "cell_type": "code",
   "execution_count": 62,
   "metadata": {},
   "outputs": [
    {
     "name": "stdout",
     "output_type": "stream",
     "text": [
      "[[ 1. -1. -1.  1. -1. -1.  1. -1. -1.  1. -1. -1.]\n",
      " [ 4.  5.  6.  4.  5.  6.  4.  5.  6.  4.  5.  6.]\n",
      " [ 1. -1. -1.  1. -1. -1.  1. -1. -1.  1. -1. -1.]\n",
      " [ 4.  5.  6.  4.  5.  6.  4.  5.  6.  4.  5.  6.]\n",
      " [ 1. -1. -1.  1. -1. -1.  1. -1. -1.  1. -1. -1.]\n",
      " [ 4.  5.  6.  4.  5.  6.  4.  5.  6.  4.  5.  6.]\n",
      " [ 1. -1. -1.  1. -1. -1.  1. -1. -1.  1. -1. -1.]\n",
      " [ 4.  5.  6.  4.  5.  6.  4.  5.  6.  4.  5.  6.]]\n"
     ]
    }
   ],
   "source": [
    "# 7.4 A 3x4 Block Matrix (2d array) with each block as the input 2d array\n",
    "def Q7_4 (a):\n",
    "    Y=np.block([[a, a, a, a],\n",
    "                [a, a, a, a],\n",
    "                [a, a, a, a],\n",
    "                [a, a, a, a]])\n",
    "    return Y\n",
    "print(Q7_4(x))\n"
   ]
  },
  {
   "cell_type": "code",
   "execution_count": 15,
   "metadata": {},
   "outputs": [
    {
     "name": "stdout",
     "output_type": "stream",
     "text": [
      "[[ 1.25 -1.55 -1.89]\n",
      " [ 4.    5.    6.  ]]\n"
     ]
    }
   ],
   "source": [
    "# 7.5 A 2d array with all elements of the input array rounded to the nearest hundred\n",
    "def Q7_5(X):\n",
    "    X=np.round(X, decimals=2) ## note, this performs \"bankers\" rounding, not always rounding 0.5 up. check if your implementation NEEDS rounding up as a req, because many cases its won't be good to anyways\n",
    "    return X\n",
    "print(Q7_5(x))"
   ]
  },
  {
   "cell_type": "code",
   "execution_count": 16,
   "metadata": {},
   "outputs": [
    {
     "name": "stdout",
     "output_type": "stream",
     "text": [
      "[['1.255' '-1.55' '-1.888']\n",
      " ['4.0' '5.0' '6.0']]\n"
     ]
    }
   ],
   "source": [
    "# 7.6 A 2d array with each number converted to a python string\n",
    "def Q7_6 (X):\n",
    "    return X.astype(str)\n",
    "\n",
    "print(Q7_6(x))"
   ]
  },
  {
   "cell_type": "code",
   "execution_count": 17,
   "metadata": {},
   "outputs": [
    {
     "data": {
      "text/plain": [
       "2.6275"
      ]
     },
     "execution_count": 17,
     "metadata": {},
     "output_type": "execute_result"
    }
   ],
   "source": [
    "# 7.7 Median of all entries in the array\n",
    "def Q7_7 (X):\n",
    "    return np.median(X)\n",
    "\n",
    "print(Q7_7(x))"
   ]
  }
 ],
 "metadata": {
  "kernelspec": {
   "display_name": "env-stats404-class0",
   "language": "python",
   "name": "env-stats404-class0"
  },
  "language_info": {
   "codemirror_mode": {
    "name": "ipython",
    "version": 3
   },
   "file_extension": ".py",
   "mimetype": "text/x-python",
   "name": "python",
   "nbconvert_exporter": "python",
   "pygments_lexer": "ipython3",
   "version": "3.7.2"
  }
 },
 "nbformat": 4,
 "nbformat_minor": 2
}
