{
 "cells": [
  {
   "cell_type": "code",
   "execution_count": 1,
   "metadata": {},
   "outputs": [],
   "source": [
    "import numpy as np\n",
    "import pandas as pd\n",
    "import pickle\n",
    "from sklearn import preprocessing"
   ]
  },
  {
   "cell_type": "code",
   "execution_count": 2,
   "metadata": {},
   "outputs": [],
   "source": [
    "file = r'C:\\Users\\lauw02\\Desktop\\stats 418\\cifar-10-python.tar\\cifar-10-python\\cifar-10-batches-py\\data_batch_1'\n",
    "file2 = r'C:\\Users\\lauw02\\Desktop\\stats 418\\cifar-10-python.tar\\cifar-10-python\\cifar-10-batches-py\\data_batch_2'\n",
    "file3 = r'C:\\Users\\lauw02\\Desktop\\stats 418\\cifar-10-python.tar\\cifar-10-python\\cifar-10-batches-py\\data_batch_3'\n",
    "file4 = r'C:\\Users\\lauw02\\Desktop\\stats 418\\cifar-10-python.tar\\cifar-10-python\\cifar-10-batches-py\\data_batch_4'\n",
    "file5 = r'C:\\Users\\lauw02\\Desktop\\stats 418\\cifar-10-python.tar\\cifar-10-python\\cifar-10-batches-py\\data_batch_5'\n",
    "testfile = r'C:\\Users\\lauw02\\Desktop\\stats 418\\cifar-10-python.tar\\cifar-10-python\\cifar-10-batches-py\\test_batch'\n"
   ]
  },
  {
   "cell_type": "code",
   "execution_count": 3,
   "metadata": {},
   "outputs": [],
   "source": [
    "def unpickle(file):\n",
    "    with open(file, 'rb') as fo:\n",
    "        dict = pickle.load(fo, encoding='bytes')\n",
    "    return dict\n",
    "\n",
    "## actually this is a key:value dict where the value is like a huge array\n",
    "# we only care about the \"labels\" and \"data\" so maybe extract that only\n",
    "#test = unpickle(file)\n",
    "#np.vstack(test[b'labels'])\n",
    "#test[b'labels']"
   ]
  },
  {
   "cell_type": "code",
   "execution_count": 4,
   "metadata": {},
   "outputs": [
    {
     "data": {
      "text/plain": [
       "(50000, 3072)"
      ]
     },
     "execution_count": 4,
     "metadata": {},
     "output_type": "execute_result"
    }
   ],
   "source": [
    "list_to_train = [file, file2,file3,file4, file5]\n",
    "# instantiate dict\n",
    "#train_data = np.empty((0,3072), dtype=object)\n",
    "train_data = []\n",
    "train_labels = []\n",
    "\n",
    "\n",
    "\n",
    "# for i, file in enumerate(list_to_train[:-1]):\n",
    "#     train_data.append(unpickle(i)[b'data'])\n",
    "#     #train_data = np.concatenate([train_data, unpickle(file)])\n",
    "    \n",
    "for i in list_to_train:\n",
    "     train_data.append(unpickle(i)[b'data'])\n",
    "    \n",
    "#np.concatenate( (unpickle(file)[b'data']), axis = 0)\n",
    "    \n",
    "    \n",
    "for j in list_to_train:\n",
    "    train_labels.append(unpickle(j)[b'labels'])\n",
    "\n",
    "\n",
    "\n",
    "test_data = unpickle(testfile)[b'data'] #this is the right shape of all your training data (10k, 3072)\n",
    "test_labels = unpickle(testfile)[b'labels']\n",
    "#print(test_labels)\n",
    "\n",
    "#now concat all your train data 1 through 5 (it is no longer a list of arrays, but just one big array)\n",
    "train_data = np.concatenate([train_data[0], train_data[1], train_data[2], train_data[3], train_data[4]], axis =0)\n",
    "train_data.shape #this is the right shape of all your training data (50k, 3072)\n",
    "train_data.shape"
   ]
  },
  {
   "attachments": {
    "image.png": {
     "image/png": "[encoded data removed]"
    }
   },
   "cell_type": "markdown",
   "metadata": {},
   "source": [
    "#scale the data so each feature/DATA part of train and test has min =  0 max = 1\n",
    "![image.png](attachment:image.png)"
   ]
  },
  {
   "cell_type": "code",
   "execution_count": 5,
   "metadata": {},
   "outputs": [
    {
     "data": {
      "text/plain": [
       "array([229, 236, 234, ..., 173, 162, 161], dtype=uint8)"
      ]
     },
     "execution_count": 5,
     "metadata": {},
     "output_type": "execute_result"
    }
   ],
   "source": [
    "#first fit the data into a data frame with data col and labels col. 2 sep ones for train and test.\n",
    "##scale each row of the train_data and test_data so its min max is 0 and 1\n",
    "\n",
    "train_data[49999]"
   ]
  },
  {
   "cell_type": "code",
   "execution_count": 6,
   "metadata": {},
   "outputs": [],
   "source": [
    "import warnings\n",
    "warnings.simplefilter('ignore')\n",
    "#train_data_scaled = np.ones((50000,3072)) #this gives memory error\n",
    "# train_data_scaled = np.ones(3072)\n",
    "# train_data_scaled\n",
    "# test =min_max_scaler.fit_transform(train_data[0].reshape(-1, 1)).T[0]\n",
    "# test\n",
    "# np.vstack((train_data_scaled,test))[0]"
   ]
  },
  {
   "cell_type": "code",
   "execution_count": 7,
   "metadata": {},
   "outputs": [],
   "source": [
    "##scale each row of the train_data and test_data so its min max is 0 and 1\n",
    "min_max_scaler = preprocessing.MinMaxScaler()\n",
    "#min_max_scaler.fit(test_data[1].reshape(-1, 1))\n",
    "#normalizepic1 = min_max_scaler.fit_transform(test_data[1].reshape(-1, 1))\n",
    "#now it works for transforming one row, why is it giving memory error when trying to do it for all rows? -- DC all rows\n",
    "#instead of (-1,1) param, it should be -1,1 because we want it to go from first element to the end of the row (3072 long)\n",
    "train_data_scaled = []\n",
    "#we want to do this normalize operation on all 10k rows/pictures\n",
    "for i in range(len(train_data)):\n",
    "    train_data_scaled.append( min_max_scaler.fit_transform(train_data[i].reshape(-1, 1)) )\n",
    "    #train_data_scaled[i,:] =(min_max_scaler.fit_transform(train_data[i].reshape(-1, 1)) )\n",
    "#len(train_data_scaled)\n",
    "#np.stack(train_data_scaled, axis = 0)"
   ]
  },
  {
   "cell_type": "code",
   "execution_count": 12,
   "metadata": {},
   "outputs": [],
   "source": [
    "# lengthloop = int(len(train_data_scaled)/1000)\n",
    "# lengthloop\n",
    "\n",
    "# # for i in range(lengthloop):\n",
    "# #     train_data_scaled[1000*i: 1000*(i+1)]=np.concatenate(train_data_scaled[1000*i: 1000*(i+1)], axis =1).transpose().shape\n",
    "\n",
    "\n",
    "# train1 = np.concatenate(train_data_scaled[0:1000], axis =1).transpose().shape\n",
    "# #np.stack(train_data_scaled[0:9], axis = 0)\n",
    "# #len(train_data_scaled[0:9])"
   ]
  },
  {
   "cell_type": "code",
   "execution_count": 13,
   "metadata": {},
   "outputs": [],
   "source": [
    "# do the same to test_data\n",
    "test_data_scaled = []\n",
    "for i in range(len(test_data)):\n",
    "    test_data_scaled.append(min_max_scaler.fit_transform(test_data[i].reshape(-1, 1)) )"
   ]
  },
  {
   "cell_type": "code",
   "execution_count": 11,
   "metadata": {},
   "outputs": [
    {
     "ename": "MemoryError",
     "evalue": "",
     "output_type": "error",
     "traceback": [
      "\u001b[1;31m---------------------------------------------------------------------------\u001b[0m",
      "\u001b[1;31mMemoryError\u001b[0m                               Traceback (most recent call last)",
      "\u001b[1;32m<ipython-input-11-fd95f82fd3ce>\u001b[0m in \u001b[0;36m<module>\u001b[1;34m\u001b[0m\n\u001b[0;32m      4\u001b[0m \u001b[1;31m#train_data_scaled[0].T #this is not in the same SHAPE as \"train_data\", fix it\u001b[0m\u001b[1;33m\u001b[0m\u001b[1;33m\u001b[0m\u001b[1;33m\u001b[0m\u001b[0m\n\u001b[0;32m      5\u001b[0m \u001b[1;31m#train_data[0]\u001b[0m\u001b[1;33m\u001b[0m\u001b[1;33m\u001b[0m\u001b[1;33m\u001b[0m\u001b[0m\n\u001b[1;32m----> 6\u001b[1;33m \u001b[0mtrain_data_scaled\u001b[0m \u001b[1;33m=\u001b[0m \u001b[0mnp\u001b[0m\u001b[1;33m.\u001b[0m\u001b[0masarray\u001b[0m\u001b[1;33m(\u001b[0m\u001b[0mtrain_data_scaled\u001b[0m\u001b[1;33m)\u001b[0m\u001b[1;33m\u001b[0m\u001b[1;33m\u001b[0m\u001b[0m\n\u001b[0m\u001b[0;32m      7\u001b[0m \u001b[1;31m#train_data_scaled[0]\u001b[0m\u001b[1;33m\u001b[0m\u001b[1;33m\u001b[0m\u001b[1;33m\u001b[0m\u001b[0m\n\u001b[0;32m      8\u001b[0m \u001b[1;33m\u001b[0m\u001b[0m\n",
      "\u001b[1;32m~\\Documents\\Stats-404-W19-Statistical-Computing\\Envs\\env-stats404-class0\\lib\\site-packages\\numpy\\core\\numeric.py\u001b[0m in \u001b[0;36masarray\u001b[1;34m(a, dtype, order)\u001b[0m\n\u001b[0;32m    536\u001b[0m \u001b[1;33m\u001b[0m\u001b[0m\n\u001b[0;32m    537\u001b[0m     \"\"\"\n\u001b[1;32m--> 538\u001b[1;33m     \u001b[1;32mreturn\u001b[0m \u001b[0marray\u001b[0m\u001b[1;33m(\u001b[0m\u001b[0ma\u001b[0m\u001b[1;33m,\u001b[0m \u001b[0mdtype\u001b[0m\u001b[1;33m,\u001b[0m \u001b[0mcopy\u001b[0m\u001b[1;33m=\u001b[0m\u001b[1;32mFalse\u001b[0m\u001b[1;33m,\u001b[0m \u001b[0morder\u001b[0m\u001b[1;33m=\u001b[0m\u001b[0morder\u001b[0m\u001b[1;33m)\u001b[0m\u001b[1;33m\u001b[0m\u001b[1;33m\u001b[0m\u001b[0m\n\u001b[0m\u001b[0;32m    539\u001b[0m \u001b[1;33m\u001b[0m\u001b[0m\n\u001b[0;32m    540\u001b[0m \u001b[1;33m\u001b[0m\u001b[0m\n",
      "\u001b[1;31mMemoryError\u001b[0m: "
     ]
    }
   ],
   "source": [
    "#train_data_scaled[1].T #train_data_scaled[1] is length 3072, so that means each indexing of the scaled list is an array of full picture\n",
    "#len(train_data_scaled[1])\n",
    "type(train_data_scaled) #train_data_scaled is a list, it CONTAINS 50k numpy arrays, you want to convert alll these to np arrays\n",
    "#train_data_scaled[0].T #this is not in the same SHAPE as \"train_data\", fix it\n",
    "#train_data[0]\n",
    "train_data_scaled = np.asarray(train_data_scaled)\n",
    "#train_data_scaled[0]\n",
    "\n",
    "##we want to convert list to ndarray, but ran out of memory, so now we want to make the numbers smaller/shorten them"
   ]
  },
  {
   "cell_type": "code",
   "execution_count": 13,
   "metadata": {},
   "outputs": [],
   "source": [
    "import matplotlib.pyplot as plt\n",
    "from sklearn.decomposition import PCA, IncrementalPCA"
   ]
  },
  {
   "cell_type": "code",
   "execution_count": 15,
   "metadata": {},
   "outputs": [
    {
     "ename": "TypeError",
     "evalue": "list indices must be integers or slices, not tuple",
     "output_type": "error",
     "traceback": [
      "\u001b[1;31m---------------------------------------------------------------------------\u001b[0m",
      "\u001b[1;31mTypeError\u001b[0m                                 Traceback (most recent call last)",
      "\u001b[1;32m<ipython-input-15-043dce32bfac>\u001b[0m in \u001b[0;36m<module>\u001b[1;34m\u001b[0m\n\u001b[0;32m      3\u001b[0m \u001b[0mn_components\u001b[0m \u001b[1;33m=\u001b[0m \u001b[1;36m3\u001b[0m\u001b[1;33m\u001b[0m\u001b[1;33m\u001b[0m\u001b[0m\n\u001b[0;32m      4\u001b[0m \u001b[0mipca\u001b[0m \u001b[1;33m=\u001b[0m \u001b[0mIncrementalPCA\u001b[0m\u001b[1;33m(\u001b[0m\u001b[0mn_components\u001b[0m\u001b[1;33m=\u001b[0m\u001b[0mn_components\u001b[0m\u001b[1;33m,\u001b[0m \u001b[0mbatch_size\u001b[0m\u001b[1;33m=\u001b[0m\u001b[1;36m1\u001b[0m\u001b[1;33m)\u001b[0m\u001b[1;33m\u001b[0m\u001b[1;33m\u001b[0m\u001b[0m\n\u001b[1;32m----> 5\u001b[1;33m \u001b[0mX_ipca\u001b[0m \u001b[1;33m=\u001b[0m \u001b[0mipca\u001b[0m\u001b[1;33m.\u001b[0m\u001b[0mfit_transform\u001b[0m\u001b[1;33m(\u001b[0m\u001b[0mtrain_data_scaled\u001b[0m\u001b[1;33m[\u001b[0m\u001b[0mrange\u001b[0m\u001b[1;33m(\u001b[0m\u001b[1;36m1000\u001b[0m\u001b[1;33m)\u001b[0m\u001b[1;33m,\u001b[0m\u001b[1;33m:\u001b[0m\u001b[1;33m]\u001b[0m\u001b[1;33m)\u001b[0m \u001b[1;31m#since this will give us memory error if num rows too large, just choose first 10k rows.\u001b[0m\u001b[1;33m\u001b[0m\u001b[1;33m\u001b[0m\u001b[0m\n\u001b[0m",
      "\u001b[1;31mTypeError\u001b[0m: list indices must be integers or slices, not tuple"
     ]
    }
   ],
   "source": [
    "# train_data = []\n",
    "test_data = []\n",
    "n_components = 3\n",
    "ipca = IncrementalPCA(n_components=n_components, batch_size=1)\n",
    "X_ipca = ipca.fit_transform(train_data_scaled[range(1000),:]) #since this will give us memory error if num rows too large, just choose first 10k rows."
   ]
  },
  {
   "cell_type": "code",
   "execution_count": 54,
   "metadata": {},
   "outputs": [
    {
     "data": {
      "text/plain": [
       "(1, 1)"
      ]
     },
     "execution_count": 54,
     "metadata": {},
     "output_type": "execute_result"
    }
   ],
   "source": [
    "X_ipca.shape #we have transformed whatever number of rows you have in X to now have n_component columns\n",
    "#train_data[range(10000),:].shape"
   ]
  },
  {
   "cell_type": "code",
   "execution_count": null,
   "metadata": {},
   "outputs": [],
   "source": [
    "from sklearn.decomposition import PCA"
   ]
  },
  {
   "cell_type": "code",
   "execution_count": 61,
   "metadata": {},
   "outputs": [
    {
     "ename": "TypeError",
     "evalue": "list indices must be integers or slices, not tuple",
     "output_type": "error",
     "traceback": [
      "\u001b[1;31m---------------------------------------------------------------------------\u001b[0m",
      "\u001b[1;31mTypeError\u001b[0m                                 Traceback (most recent call last)",
      "\u001b[1;32m<ipython-input-61-419eb2847ae8>\u001b[0m in \u001b[0;36m<module>\u001b[1;34m\u001b[0m\n\u001b[0;32m      1\u001b[0m \u001b[0mpca\u001b[0m \u001b[1;33m=\u001b[0m \u001b[0mPCA\u001b[0m\u001b[1;33m(\u001b[0m\u001b[0mn_components\u001b[0m\u001b[1;33m=\u001b[0m\u001b[1;36m3\u001b[0m\u001b[1;33m,\u001b[0m \u001b[0msvd_solver\u001b[0m\u001b[1;33m=\u001b[0m\u001b[1;34m'auto'\u001b[0m\u001b[1;33m)\u001b[0m\u001b[1;33m\u001b[0m\u001b[1;33m\u001b[0m\u001b[0m\n\u001b[1;32m----> 2\u001b[1;33m \u001b[0mtest\u001b[0m \u001b[1;33m=\u001b[0m \u001b[0mpca\u001b[0m\u001b[1;33m.\u001b[0m\u001b[0mfit_transform\u001b[0m\u001b[1;33m(\u001b[0m\u001b[0mtrain_data\u001b[0m\u001b[1;33m[\u001b[0m\u001b[0mrange\u001b[0m\u001b[1;33m(\u001b[0m\u001b[1;36m10000\u001b[0m\u001b[1;33m)\u001b[0m\u001b[1;33m,\u001b[0m\u001b[1;33m:\u001b[0m\u001b[1;33m]\u001b[0m\u001b[1;33m)\u001b[0m\u001b[1;33m\u001b[0m\u001b[1;33m\u001b[0m\u001b[0m\n\u001b[0m\u001b[0;32m      3\u001b[0m \u001b[0mtest\u001b[0m\u001b[1;33m.\u001b[0m\u001b[0mshape\u001b[0m\u001b[1;33m\u001b[0m\u001b[1;33m\u001b[0m\u001b[0m\n",
      "\u001b[1;31mTypeError\u001b[0m: list indices must be integers or slices, not tuple"
     ]
    }
   ],
   "source": [
    "pca = PCA(n_components=3, svd_solver='auto')\n",
    "test = pca.fit_transform(train_data[range(10000),:])\n",
    "test.shape"
   ]
  },
  {
   "cell_type": "code",
   "execution_count": null,
   "metadata": {},
   "outputs": [],
   "source": []
  }
 ],
 "metadata": {
  "kernelspec": {
   "display_name": "env-stats404-class0",
   "language": "python",
   "name": "env-stats404-class0"
  },
  "language_info": {
   "codemirror_mode": {
    "name": "ipython",
    "version": 3
   },
   "file_extension": ".py",
   "mimetype": "text/x-python",
   "name": "python",
   "nbconvert_exporter": "python",
   "pygments_lexer": "ipython3",
   "version": "3.7.2"
  }
 },
 "nbformat": 4,
 "nbformat_minor": 2
}
